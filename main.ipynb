{
 "cells": [
  {
   "attachments": {},
   "cell_type": "markdown",
   "metadata": {},
   "source": [
    "## Imports"
   ]
  },
  {
   "cell_type": "code",
   "execution_count": 85,
   "metadata": {},
   "outputs": [],
   "source": [
    "import pandas as pd\n",
    "import speech_recognition as sr\n",
    "import moviepy.editor as mp\n",
    "import openai\n",
    "import dateparser\n",
    "import spacy\n",
    "import assemblyai\n",
    "from spacy import displacy"
   ]
  },
  {
   "cell_type": "code",
   "execution_count": 19,
   "metadata": {},
   "outputs": [
    {
     "name": "stdout",
     "output_type": "stream",
     "text": [
      "MoviePy - Writing audio in query_voice_en.wav\n"
     ]
    },
    {
     "name": "stderr",
     "output_type": "stream",
     "text": [
      "                                                               \r"
     ]
    },
    {
     "name": "stdout",
     "output_type": "stream",
     "text": [
      "MoviePy - Done.\n",
      "{\n",
      "  \"text\" : \"hello how are you\"\n",
      "}\n"
     ]
    }
   ],
   "source": [
    "r = sr.Recognizer()\n",
    "\n",
    "audio_file = mp.AudioFileClip(\"query.m4a\")\n",
    "\n",
    "audio_file.write_audiofile(\"query_voice_en.wav\");\n",
    "\n",
    "with sr.AudioFile(\"query_voice_en.wav\") as source:\n",
    "    audio = r.record(source)\n",
    "\n",
    "result = r.recognize_vosk(audio)\n",
    "\n",
    "print(result)"
   ]
  },
  {
   "cell_type": "code",
   "execution_count": 25,
   "metadata": {},
   "outputs": [],
   "source": [
    "API_KEY = open('api_key.txt', 'r').read()\n",
    "openai.api_key = API_KEY\n",
    "openai.ChatCompletion.create(\n",
    "    \n",
    ")"
   ]
  },
  {
   "cell_type": "code",
   "execution_count": 66,
   "metadata": {},
   "outputs": [],
   "source": [
    "def get_destination(doc):\n",
    "    destination = None\n",
    "    for token in doc:\n",
    "        if token.text == \"to\":\n",
    "            # Get the next token in the doc\n",
    "            next_token = doc[token.i + 1]\n",
    "            # Check if the next token is an entity\n",
    "            if next_token.ent_type == 384:\n",
    "                # Save the entity text in the destination variable\n",
    "                destination = next_token.text\n",
    "    return destination"
   ]
  },
  {
   "cell_type": "code",
   "execution_count": 69,
   "metadata": {},
   "outputs": [],
   "source": [
    "def get_source(doc, destination):\n",
    "    for ent in doc.ents:\n",
    "        if ent.label_ == \"GPE\" and ent.text != destination:\n",
    "            return ent.text\n",
    "    return None"
   ]
  },
  {
   "cell_type": "code",
   "execution_count": 74,
   "metadata": {},
   "outputs": [],
   "source": [
    "def get_schedule(doc):\n",
    "    for ent in doc.ents:\n",
    "        if ent.label_ == \"DATE\":\n",
    "            return dateparser.parse(ent.text)\n",
    "    return None"
   ]
  },
  {
   "cell_type": "code",
   "execution_count": 82,
   "metadata": {},
   "outputs": [
    {
     "name": "stdout",
     "output_type": "stream",
     "text": [
      "New York\n",
      "London\n",
      "2023-07-12 20:46:43.715437\n"
     ]
    }
   ],
   "source": [
    "text = \"Is there a flight from New York to London tomorrow?\"\n",
    "\n",
    "# Process the text with spaCy\n",
    "doc = nlp(text)\n",
    "\n",
    "# Print the entities and their labels\n",
    "destination = get_destination(doc)\n",
    "source = get_source(doc, destination)\n",
    "schedule = get_schedule(doc)\n",
    "print(source)\n",
    "print(destination)\n",
    "print(schedule)\n",
    "\n",
    "# for ent in doc.ents:\n",
    "#     print(ent.text, ent.label_)"
   ]
  }
 ],
 "metadata": {
  "kernelspec": {
   "display_name": "Python 3",
   "language": "python",
   "name": "python3"
  },
  "language_info": {
   "codemirror_mode": {
    "name": "ipython",
    "version": 3
   },
   "file_extension": ".py",
   "mimetype": "text/x-python",
   "name": "python",
   "nbconvert_exporter": "python",
   "pygments_lexer": "ipython3",
   "version": "3.11.3"
  },
  "orig_nbformat": 4
 },
 "nbformat": 4,
 "nbformat_minor": 2
}
